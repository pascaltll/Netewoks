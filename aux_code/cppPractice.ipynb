{
 "cells": [
  {
   "cell_type": "code",
   "execution_count": null,
   "metadata": {},
   "outputs": [],
   "source": [
    "##ast python\n",
    "## unit testing python\n",
    "##import unit test\n",
    "## unitest create\n",
    "##geenrato in plyton\n",
    "##generatos if subclass of iteratro\n",
    "#yield-like return not inmediatlelly\n",
    "values = {\"2\", \"w\"}\n",
    "class Cubes():\n",
    "    def __init__(self):\n",
    "        self.i = 0\n",
    "    def __iter__(self):\n",
    "        return self\n",
    "    def __next__(self):\n",
    "        i = self.i  ** 3\n",
    "        self.i += 1\n",
    "        return i\n"
   ]
  },
  {
   "cell_type": "code",
   "execution_count": null,
   "metadata": {},
   "outputs": [],
   "source": [
    "for value in  cubes():\n",
    "    print(value, end = '')\n",
    "    "
   ]
  },
  {
   "cell_type": "code",
   "execution_count": null,
   "metadata": {},
   "outputs": [],
   "source": [
    "def limit(gen, max_count):\n",
    "    for i in range(max_count):\n",
    "            yield gen.__next__()"
   ]
  },
  {
   "cell_type": "code",
   "execution_count": null,
   "metadata": {},
   "outputs": [],
   "source": [
    "cubes = Cubes()\n",
    "lomited_cubes = limit(cubes,10)\n",
    "print(limit(cubes, 10))"
   ]
  },
  {
   "cell_type": "code",
   "execution_count": null,
   "metadata": {},
   "outputs": [],
   "source": [
    "list1 = [1, 2, 8]\n",
    "list2 = [2,6]\n",
    "\n",
    "for i in list1:\n",
    "    if(i in list2):\n",
    "\n",
    "    else:\n",
    "        print(i)\n"
   ]
  },
  {
   "cell_type": "code",
   "execution_count": null,
   "metadata": {},
   "outputs": [],
   "source": [
    "list1 = [1,1, 2, 8]\n",
    "list2 = [2,6]\n",
    "set(list1)- set(list2)"
   ]
  },
  {
   "cell_type": "code",
   "execution_count": null,
   "metadata": {},
   "outputs": [],
   "source": []
  }
 ],
 "metadata": {
  "interpreter": {
   "hash": "3e013d30b648d552f53b2ccd0546ca49e94f1a6464ffd7e05d9fab58f53c3528"
  },
  "kernelspec": {
   "display_name": "Python 3.9.7 ('base')",
   "language": "python",
   "name": "python3"
  },
  "language_info": {
   "codemirror_mode": {
    "name": "ipython",
    "version": 3
   },
   "file_extension": ".py",
   "mimetype": "text/x-python",
   "name": "python",
   "nbconvert_exporter": "python",
   "pygments_lexer": "ipython3",
   "version": "3.9.7"
  },
  "orig_nbformat": 4
 },
 "nbformat": 4,
 "nbformat_minor": 2
}
